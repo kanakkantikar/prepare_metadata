{
 "cells": [
  {
   "cell_type": "code",
   "execution_count": 1,
   "id": "c4626075",
   "metadata": {},
   "outputs": [],
   "source": [
    "#import libraries\n",
    "import pandas as pd\n",
    "import numpy as np\n",
    "import io, os, csv\n",
    "import glob"
   ]
  },
  {
   "cell_type": "code",
   "execution_count": 2,
   "id": "5f3e5e84",
   "metadata": {},
   "outputs": [],
   "source": [
    "#input the file location\n",
    "inpath = \"/path/to/file/location\""
   ]
  },
  {
   "cell_type": "code",
   "execution_count": 3,
   "id": "7f3eef01",
   "metadata": {},
   "outputs": [],
   "source": [
    "#detect the csv files\n",
    "stationfiles = glob.glob(inpath+'*.csv')"
   ]
  },
  {
   "cell_type": "code",
   "execution_count": 4,
   "id": "06833612",
   "metadata": {},
   "outputs": [],
   "source": [
    "#create an array with targeted column and values\n",
    "array = []\n",
    "for i in stationfiles:\n",
    "    data_lines = pd.read_csv(f'{i}')\n",
    "    station = data_lines['STATION'][0]\n",
    "    lat = data_lines['LATITUDE'][0]\n",
    "    long = data_lines['LONGITUDE'][0]\n",
    "    elevation = data_lines['ELEVATION'][0]\n",
    "    start_yr = int(data_lines['DATE'].values[0][-4:])\n",
    "    end_yr = int(data_lines['DATE'].values[-1][-4:])\n",
    "    tot_yr = (end_yr-start_yr)+1\n",
    "    array.append([station, lat, long, elevation, start_yr, end_yr, tot_yr])"
   ]
  },
  {
   "cell_type": "code",
   "execution_count": 5,
   "id": "b28b25d6",
   "metadata": {},
   "outputs": [],
   "source": [
    "#create a pandas dataframe\n",
    "new_df = pd.DataFrame(array, columns=['Statio_ID','Lat','Lon','Elevation','Start_yr','End_yr', 'Total_yr'])"
   ]
  },
  {
   "cell_type": "code",
   "execution_count": 6,
   "id": "79ee6b86",
   "metadata": {},
   "outputs": [],
   "source": [
    "#create a \"CSV file\" from pandas dataframe\n",
    "new_df.to_csv('prepare_metadata.csv')"
   ]
  },
  {
   "cell_type": "code",
   "execution_count": null,
   "id": "4102e559",
   "metadata": {},
   "outputs": [],
   "source": []
  }
 ],
 "metadata": {
  "kernelspec": {
   "display_name": "Python 3.9.12 ('base')",
   "language": "python",
   "name": "python3"
  },
  "language_info": {
   "codemirror_mode": {
    "name": "ipython",
    "version": 3
   },
   "file_extension": ".py",
   "mimetype": "text/x-python",
   "name": "python",
   "nbconvert_exporter": "python",
   "pygments_lexer": "ipython3",
   "version": "3.9.12"
  },
  "vscode": {
   "interpreter": {
    "hash": "ad2bdc8ecc057115af97d19610ffacc2b4e99fae6737bb82f5d7fb13d2f2c186"
   }
  }
 },
 "nbformat": 4,
 "nbformat_minor": 5
}
